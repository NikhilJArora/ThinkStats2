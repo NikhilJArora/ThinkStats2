{
 "cells": [
  {
   "cell_type": "markdown",
   "metadata": {},
   "source": [
    "# Bias vs Population Distribution\n",
    "\n",
    "### Exercise:\n",
    "Something like the class size paradox appears if you survey children and ask how many children are in their family. Families with many children are more likely to appear in your sample, and families with no children have no chance to be in the sample.\n",
    "Use the NSFG respondent variable numkdhh to construct the actual distribution for the number of children under 18 in the respondents' households. \n",
    "\n",
    "Now compute the biased distribution we would see if we surveyed the children and asked them how many children under 18 (including themselves) are in their household.\n",
    "Plot the actual and biased distributions, and compute their means.\n",
    "\n",
    "\n",
    "Run all required imports:"
   ]
  },
  {
   "cell_type": "code",
   "execution_count": 5,
   "metadata": {},
   "outputs": [],
   "source": [
    "from __future__ import print_function, division\n",
    "\n",
    "%matplotlib inline\n",
    "\n",
    "import numpy as np\n",
    "\n",
    "import nsfg\n",
    "import first\n",
    "import thinkstats2\n",
    "import thinkplot\n",
    "import chap03ex_personal"
   ]
  },
  {
   "cell_type": "markdown",
   "metadata": {},
   "source": [
    "pull required data into workspace:"
   ]
  },
  {
   "cell_type": "code",
   "execution_count": 6,
   "metadata": {},
   "outputs": [
    {
     "data": {
      "text/plain": [
       "pandas.core.frame.DataFrame"
      ]
     },
     "execution_count": 6,
     "metadata": {},
     "output_type": "execute_result"
    }
   ],
   "source": [
    "resp = nsfg.ReadFemResp()\n",
    "type(resp)"
   ]
  },
  {
   "cell_type": "code",
   "execution_count": 7,
   "metadata": {},
   "outputs": [
    {
     "name": "stdout",
     "output_type": "stream",
     "text": [
      "True\n"
     ]
    }
   ],
   "source": [
    "x = \"numkdhh\"\n",
    "\n",
    "if x in list(resp):\n",
    "    print(True)\n",
    "    \n",
    "else:\n",
    "    print(False)\n",
    "    "
   ]
  },
  {
   "cell_type": "code",
   "execution_count": 8,
   "metadata": {},
   "outputs": [
    {
     "data": {
      "image/png": "[encoded data removed]",
      "text/plain": [
       "<matplotlib.figure.Figure at 0x11bd11d30>"
      ]
     },
     "metadata": {},
     "output_type": "display_data"
    }
   ],
   "source": [
    "real_pmf = thinkstats2.Pmf(resp.numkdhh)\n",
    "bias_pmf = real_pmf.Copy()\n",
    "\n",
    "for x, p in real_pmf.Items():\n",
    "    bias_pmf.Mult(x, x)\n",
    "\n",
    "\n",
    "thinkplot.Pmfs([real_pmf, bias_pmf])\n",
    "thinkplot.config(xlabel=\"Number of Children in Household\", ylabel=\"Probability\", \n",
    "                 title=\"Bias vs un bais Count of children in household\", \n",
    "                 legend=\"\")\n",
    "\n"
   ]
  },
  {
   "cell_type": "markdown",
   "metadata": {},
   "source": [
    "TODO: update the above plot with legend to desicribe what the lines corresplond to... The plot looks correct though "
   ]
  },
  {
   "cell_type": "code",
   "execution_count": 9,
   "metadata": {},
   "outputs": [
    {
     "name": "stdout",
     "output_type": "stream",
     "text": [
      "Bias Mean:  2.46186052597\n",
      "True Mean:  1.02420515504\n"
     ]
    }
   ],
   "source": [
    "print(\"Bias Mean: \",bias_pmf.Mean())\n",
    "print(\"True Mean: \", real_pmf.Mean())"
   ]
  }
 ],
 "metadata": {
  "kernelspec": {
   "display_name": "Python 3",
   "language": "python",
   "name": "python3"
  },
  "language_info": {
   "codemirror_mode": {
    "name": "ipython",
    "version": 3
   },
   "file_extension": ".py",
   "mimetype": "text/x-python",
   "name": "python",
   "nbconvert_exporter": "python",
   "pygments_lexer": "ipython3",
   "version": "3.6.1"
  }
 },
 "nbformat": 4,
 "nbformat_minor": 2
}
